{
 "cells": [
  {
   "cell_type": "code",
   "execution_count": null,
   "id": "b68951ac",
   "metadata": {},
   "outputs": [],
   "source": [
    "from selenium import webdriver\n",
    "from selenium.webdriver.chrome.service import Service\n",
    "from selenium.webdriver.common.by import By\n",
    "from selenium.webdriver.common.keys import Keys\n",
    "from openpyxl import Workbook\n",
    "\n",
    "job_needed = input(\"Which job title are you looking for?\")\n",
    "location_needed = input(\"Which location would you prefer?\")\n",
    "\n",
    "s = Service('/Users/manit57/Untitled Folder/chromedriver')\n",
    "driver = webdriver.Chrome(service=s)\n",
    "driver.get(\"https://www.linkedin.com/jobs/search?trk=guest_homepage-basic_guest_nav_menu_jobs&position=1&pageNum=0\")\n",
    "\n",
    "search_job = driver.find_element(By.ID, 'job-search-bar-keywords')\n",
    "search_location = driver.find_element(By.ID, 'job-search-bar-location')\n",
    "\n",
    "search_job.send_keys(job_needed)\n",
    "search_location.clear()\n",
    "search_location.send_keys(location_needed + Keys.ENTER)\n",
    "\n",
    "# Get the URL after the input\n",
    "new_url = driver.current_url\n",
    "\n",
    "job_listings = driver.find_elements(By.CLASS_NAME, 'base-search-card__info')\n",
    "\n",
    "# Create an Excel workbook and select the active worksheet\n",
    "wb = Workbook()\n",
    "ws = wb.active\n",
    "\n",
    "# Add headers\n",
    "ws.append([\"Job Title\", \"Company Name\", \"Link\"])\n",
    "\n",
    "for listing in job_listings:\n",
    "    job_title_element = listing.find_element(By.CLASS_NAME, 'base-search-card__title')\n",
    "    job_title = job_title_element.text.strip()  # Strip any leading or trailing whitespace\n",
    "    \n",
    "    # Find company name\n",
    "    info_div = listing.find_element(By.CLASS_NAME, 'base-search-card__subtitle')\n",
    "    company_name = info_div.text.strip()  # Strip any leading or trailing whitespace\n",
    "    \n",
    "    # Find link\n",
    "    link_element = listing.find_element(By.TAG_NAME, 'a')\n",
    "    link = link_element.get_attribute('href')\n",
    "    \n",
    "    # Append job title, company name, and link to Excel sheet\n",
    "    ws.append([job_title, company_name, link])\n",
    "\n",
    "# Save the Excel file\n",
    "wb.save(\"{0}_job_listings_{1}.xlsx\".format(job_needed, location_needed))\n",
    "\n",
    "\n",
    "# Quit the browser\n",
    "driver.quit()"
   ]
  },
  {
   "cell_type": "code",
   "execution_count": null,
   "id": "a7652dab",
   "metadata": {},
   "outputs": [],
   "source": []
  },
  {
   "cell_type": "code",
   "execution_count": null,
   "id": "a8526793",
   "metadata": {},
   "outputs": [],
   "source": []
  },
  {
   "cell_type": "code",
   "execution_count": null,
   "id": "ced8280d",
   "metadata": {},
   "outputs": [],
   "source": []
  },
  {
   "cell_type": "code",
   "execution_count": null,
   "id": "c4f72a6d",
   "metadata": {
    "scrolled": true
   },
   "outputs": [],
   "source": []
  },
  {
   "cell_type": "code",
   "execution_count": null,
   "id": "ceb5c50f",
   "metadata": {},
   "outputs": [],
   "source": []
  },
  {
   "cell_type": "code",
   "execution_count": null,
   "id": "3443b32e",
   "metadata": {},
   "outputs": [],
   "source": []
  },
  {
   "cell_type": "code",
   "execution_count": null,
   "id": "f107bb01",
   "metadata": {},
   "outputs": [],
   "source": []
  },
  {
   "cell_type": "code",
   "execution_count": null,
   "id": "f2108e06",
   "metadata": {},
   "outputs": [],
   "source": []
  },
  {
   "cell_type": "code",
   "execution_count": null,
   "id": "7c1dae52",
   "metadata": {},
   "outputs": [],
   "source": []
  },
  {
   "cell_type": "code",
   "execution_count": null,
   "id": "7c97e6ac",
   "metadata": {
    "scrolled": true
   },
   "outputs": [],
   "source": []
  },
  {
   "cell_type": "code",
   "execution_count": null,
   "id": "55e7deb0",
   "metadata": {},
   "outputs": [],
   "source": []
  },
  {
   "cell_type": "code",
   "execution_count": null,
   "id": "f3df4c3e",
   "metadata": {},
   "outputs": [],
   "source": []
  },
  {
   "cell_type": "code",
   "execution_count": null,
   "id": "42150e94",
   "metadata": {},
   "outputs": [],
   "source": []
  },
  {
   "cell_type": "code",
   "execution_count": null,
   "id": "82814a10",
   "metadata": {},
   "outputs": [],
   "source": []
  }
 ],
 "metadata": {
  "kernelspec": {
   "display_name": "Python 3 (ipykernel)",
   "language": "python",
   "name": "python3"
  },
  "language_info": {
   "codemirror_mode": {
    "name": "ipython",
    "version": 3
   },
   "file_extension": ".py",
   "mimetype": "text/x-python",
   "name": "python",
   "nbconvert_exporter": "python",
   "pygments_lexer": "ipython3",
   "version": "3.9.12"
  }
 },
 "nbformat": 4,
 "nbformat_minor": 5
}
